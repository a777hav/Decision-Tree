{
 "cells": [
  {
   "cell_type": "markdown",
   "metadata": {
    "id": "BXp7NQ2kAmyh"
   },
   "source": [
    "**THEORETICAL**"
   ]
  },
  {
   "cell_type": "markdown",
   "metadata": {
    "id": "7K5HCXPnA0-S"
   },
   "source": [
    "1. What is a Decision Tree, and how does it work?\n",
    "\n",
    "A. A Decision Tree is a flowchart-like structure used to make decisions or predictions. It works by splitting data into smaller subsets based on the value of input features. Each internal node tests a feature, each branch represents a result of the test, and each leaf node represents a final decision or classification. It keeps splitting until it reaches pure groups or meets stopping conditions.\n",
    "\n",
    "2. What are impurity measures in Decision Trees?\n",
    "\n",
    "A. Impurity measures are metrics used to decide how \"mixed\" the classes are in a dataset. They help the tree algorithm decide where to split the data. If a node contains data from only one class, it's considered pure. Common impurity measures include Gini Impurity and Entropy.\n",
    "\n",
    "3. What is the mathematical formula for Gini Impurity?\n",
    "\n",
    "A. The formula for Gini Impurity is:\n",
    "\n",
    "𝐺\n",
    "𝑖\n",
    "𝑛\n",
    "𝑖\n",
    "=\n",
    "1\n",
    "−\n",
    "∑\n",
    "𝑖\n",
    "=\n",
    "1\n",
    "𝑛\n",
    "𝑝\n",
    "𝑖\n",
    "2\n",
    "Gini=1−\n",
    "i=1\n",
    "∑\n",
    "n\n",
    "​\n",
    " p\n",
    "i\n",
    "2\n",
    "​\n",
    "\n",
    "where\n",
    "𝑝\n",
    "𝑖\n",
    "p\n",
    "i\n",
    "​\n",
    "  is the probability of class\n",
    "𝑖\n",
    "i in the node. It measures the chance of incorrectly classifying a randomly chosen element.\n",
    "\n",
    "4. What is the mathematical formula for Entropy?\n",
    "\n",
    "A. Entropy is calculated using the formula:\n",
    "\n",
    "𝐸\n",
    "𝑛\n",
    "𝑡\n",
    "𝑟\n",
    "𝑜\n",
    "𝑝\n",
    "𝑦\n",
    "=\n",
    "−\n",
    "∑\n",
    "𝑖\n",
    "=\n",
    "1\n",
    "𝑛\n",
    "𝑝\n",
    "𝑖\n",
    "log\n",
    "⁡\n",
    "2\n",
    "(\n",
    "𝑝\n",
    "𝑖\n",
    ")\n",
    "Entropy=−\n",
    "i=1\n",
    "∑\n",
    "n\n",
    "​\n",
    " p\n",
    "i\n",
    "​\n",
    " log\n",
    "2\n",
    "​\n",
    " (p\n",
    "i\n",
    "​\n",
    " )\n",
    "Here,\n",
    "𝑝\n",
    "𝑖\n",
    "p\n",
    "i\n",
    "​\n",
    "  is the proportion of class\n",
    "𝑖\n",
    "i. Entropy tells us how much randomness or disorder is in a node.\n",
    "\n",
    "5. What is Information Gain, and how is it used in Decision Trees?\n",
    "\n",
    "A. Information Gain is the reduction in impurity after a dataset is split on a feature. It shows how much a feature helps in separating the classes. The algorithm chooses the feature with the highest Information Gain to split the data at each step.\n",
    "\n",
    "6. What is the difference between Gini Impurity and Entropy?\n",
    "\n",
    "A. Both measure impurity, but Gini is simpler and faster to compute. Entropy uses logarithms and tends to be more informative. In practice, both often give similar results, but Gini is usually preferred for speed.\n",
    "\n",
    "7. What is the mathematical explanation behind Decision Trees?\n",
    "\n",
    "A. Decision Trees are built using a greedy approach. At each node, the algorithm chooses the best feature to split the data based on impurity reduction. It continues splitting until it reaches stopping criteria. The tree minimizes a cost function using metrics like Gini or Entropy to build the most informative splits.\n",
    "\n",
    "8. What is Pre-Pruning in Decision Trees?\n",
    "\n",
    "A. Pre-pruning is the technique of stopping the tree from growing too deep while it's being built. It uses conditions like maximum depth, minimum samples at a node, or minimum information gain to prevent overfitting early on.\n",
    "\n",
    "9. What is Post-Pruning in Decision Trees?\n",
    "\n",
    "A. Post-pruning happens after a full tree is built. The algorithm then goes back and removes parts of the tree that do not help improve performance on validation data. This simplifies the model and reduces overfitting.\n",
    "\n",
    "10. What is the difference between Pre-Pruning and Post-Pruning?\n",
    "\n",
    "A. Pre-pruning stops the tree during training to avoid complexity, while post-pruning trims a fully grown tree afterward. Pre-pruning is faster, but post-pruning often gives better accuracy by allowing the model to explore all splits first.\n",
    "\n",
    "11. What is a Decision Tree Regressor?\n",
    "\n",
    "A. A Decision Tree Regressor is used for predicting continuous numerical values. It works similarly to classification trees but uses metrics like Mean Squared Error to split nodes based on minimizing prediction errors.\n",
    "\n",
    "12. What are the advantages and disadvantages of Decision Trees?\n",
    "\n",
    "A.\n",
    "Advantages:\n",
    "\n",
    "Easy to understand and interpret\n",
    "\n",
    "Handles both numerical and categorical data\n",
    "\n",
    "Requires little data preprocessing\n",
    "\n",
    "Disadvantages:\n",
    "\n",
    "Prone to overfitting\n",
    "\n",
    "Can be unstable with small data changes\n",
    "\n",
    "Biased towards features with more levels\n",
    "\n",
    "13. How does a Decision Tree handle missing values?\n",
    "\n",
    "A. Some decision tree algorithms can handle missing values by using surrogate splits (alternative features), skipping missing values during training, or filling them using imputation methods like the mean or mode.\n",
    "\n",
    "14. How does a Decision Tree handle categorical features?\n",
    "\n",
    "A. Decision Trees can naturally split on categorical values by making a separate branch for each category or by combining categories in a way that reduces impurity the most. No encoding is required in some implementations.\n",
    "\n",
    "15. What are some real-world applications of Decision Trees?\n",
    "\n",
    "A. Decision Trees are used in various areas like:\n",
    "\n",
    "Medical diagnosis (e.g., predicting diseases)\n",
    "\n",
    "Financial services (e.g., credit scoring)\n",
    "\n",
    "Retail (e.g., customer segmentation)\n",
    "\n",
    "Marketing (e.g., targeting ads)\n",
    "\n",
    "Agriculture (e.g., crop prediction)\n",
    "\n"
   ]
  },
  {
   "cell_type": "code",
   "execution_count": 9,
   "metadata": {
    "colab": {
     "base_uri": "https://localhost:8080/"
    },
    "executionInfo": {
     "elapsed": 3493,
     "status": "ok",
     "timestamp": 1750770318831,
     "user": {
      "displayName": "Hemanth Surnidi",
      "userId": "03500326241075783574"
     },
     "user_tz": -330
    },
    "id": "igu3KiSuB2AE",
    "outputId": "de2190ea-2daf-4910-b799-bacb3ce1c0e1"
   },
   "outputs": [
    {
     "name": "stdout",
     "output_type": "stream",
     "text": [
      "Accuracy: 1.0\n"
     ]
    }
   ],
   "source": [
    "# 1. Train a Decision Tree Classifier on the Iris dataset and print the model accuracy\n",
    "\n",
    "from sklearn.datasets import load_iris\n",
    "from sklearn.model_selection import train_test_split\n",
    "from sklearn.tree import DecisionTreeClassifier\n",
    "from sklearn.metrics import accuracy_score\n",
    "\n",
    "iris = load_iris()\n",
    "X_train, X_test, y_train, y_test = train_test_split(iris.data, iris.target, test_size=0.3, random_state=42)\n",
    "\n",
    "clf = DecisionTreeClassifier()\n",
    "clf.fit(X_train, y_train)\n",
    "\n",
    "y_pred = clf.predict(X_test)\n",
    "print(\"Accuracy:\", accuracy_score(y_test, y_pred))\n"
   ]
  },
  {
   "cell_type": "code",
   "execution_count": 10,
   "metadata": {
    "colab": {
     "base_uri": "https://localhost:8080/"
    },
    "executionInfo": {
     "elapsed": 85,
     "status": "ok",
     "timestamp": 1750770318839,
     "user": {
      "displayName": "Hemanth Surnidi",
      "userId": "03500326241075783574"
     },
     "user_tz": -330
    },
    "id": "vd_i23U_B19I",
    "outputId": "76ab8768-5dbc-47ed-e7de-4eb1f2d9d8ac"
   },
   "outputs": [
    {
     "name": "stdout",
     "output_type": "stream",
     "text": [
      "Feature importances: [0.03822004 0.         0.87415353 0.08762643]\n"
     ]
    }
   ],
   "source": [
    "# 2. Train a Decision Tree Classifier using Gini Impurity and print feature importances\n",
    "\n",
    "from sklearn.tree import DecisionTreeClassifier\n",
    "\n",
    "clf = DecisionTreeClassifier(criterion='gini')\n",
    "clf.fit(X_train, y_train)\n",
    "\n",
    "print(\"Feature importances:\", clf.feature_importances_)\n"
   ]
  },
  {
   "cell_type": "code",
   "execution_count": 11,
   "metadata": {
    "colab": {
     "base_uri": "https://localhost:8080/"
    },
    "executionInfo": {
     "elapsed": 33,
     "status": "ok",
     "timestamp": 1750770318855,
     "user": {
      "displayName": "Hemanth Surnidi",
      "userId": "03500326241075783574"
     },
     "user_tz": -330
    },
    "id": "AuexbSgwB16O",
    "outputId": "4bd2e3ed-e1b4-44f2-cc16-708507bf6618"
   },
   "outputs": [
    {
     "name": "stdout",
     "output_type": "stream",
     "text": [
      "Accuracy (Entropy): 1.0\n"
     ]
    }
   ],
   "source": [
    "# 3. Train a Decision Tree Classifier using Entropy and print the model accuracy\n",
    "\n",
    "clf_entropy = DecisionTreeClassifier(criterion='entropy')\n",
    "clf_entropy.fit(X_train, y_train)\n",
    "\n",
    "y_pred_entropy = clf_entropy.predict(X_test)\n",
    "print(\"Accuracy (Entropy):\", accuracy_score(y_test, y_pred_entropy))\n"
   ]
  },
  {
   "cell_type": "code",
   "execution_count": 12,
   "metadata": {
    "colab": {
     "base_uri": "https://localhost:8080/"
    },
    "executionInfo": {
     "elapsed": 2838,
     "status": "ok",
     "timestamp": 1750770321696,
     "user": {
      "displayName": "Hemanth Surnidi",
      "userId": "03500326241075783574"
     },
     "user_tz": -330
    },
    "id": "-0y41vu0B13U",
    "outputId": "5aa96a33-7525-406c-c3c7-541f72b84727"
   },
   "outputs": [
    {
     "name": "stdout",
     "output_type": "stream",
     "text": [
      "Mean Squared Error: 0.5285135677724644\n"
     ]
    }
   ],
   "source": [
    "# 4. Train a Decision Tree Regressor on a housing dataset and evaluate using MSE\n",
    "\n",
    "from sklearn.datasets import fetch_california_housing\n",
    "from sklearn.tree import DecisionTreeRegressor\n",
    "from sklearn.metrics import mean_squared_error\n",
    "\n",
    "housing = fetch_california_housing()\n",
    "Xh_train, Xh_test, yh_train, yh_test = train_test_split(housing.data, housing.target, test_size=0.3, random_state=42)\n",
    "\n",
    "reg = DecisionTreeRegressor()\n",
    "reg.fit(Xh_train, yh_train)\n",
    "\n",
    "yh_pred = reg.predict(Xh_test)\n",
    "print(\"Mean Squared Error:\", mean_squared_error(yh_test, yh_pred))\n"
   ]
  },
  {
   "cell_type": "code",
   "execution_count": 13,
   "metadata": {
    "colab": {
     "base_uri": "https://localhost:8080/",
     "height": 35
    },
    "executionInfo": {
     "elapsed": 981,
     "status": "ok",
     "timestamp": 1750770322685,
     "user": {
      "displayName": "Hemanth Surnidi",
      "userId": "03500326241075783574"
     },
     "user_tz": -330
    },
    "id": "6jzEYDyDB10a",
    "outputId": "d114d23e-bd08-465f-fb90-d629a099814f"
   },
   "outputs": [
    {
     "ename": "ExecutableNotFound",
     "evalue": "failed to execute WindowsPath('dot'), make sure the Graphviz executables are on your systems' PATH",
     "output_type": "error",
     "traceback": [
      "\u001b[31m---------------------------------------------------------------------------\u001b[39m",
      "\u001b[31mFileNotFoundError\u001b[39m                         Traceback (most recent call last)",
      "\u001b[36mFile \u001b[39m\u001b[32mc:\\Users\\a777h\\AppData\\Local\\Programs\\Python\\Python313\\Lib\\site-packages\\graphviz\\backend\\execute.py:78\u001b[39m, in \u001b[36mrun_check\u001b[39m\u001b[34m(cmd, input_lines, encoding, quiet, **kwargs)\u001b[39m\n\u001b[32m     77\u001b[39m     \u001b[38;5;28;01melse\u001b[39;00m:\n\u001b[32m---> \u001b[39m\u001b[32m78\u001b[39m         proc = \u001b[43msubprocess\u001b[49m\u001b[43m.\u001b[49m\u001b[43mrun\u001b[49m\u001b[43m(\u001b[49m\u001b[43mcmd\u001b[49m\u001b[43m,\u001b[49m\u001b[43m \u001b[49m\u001b[43m*\u001b[49m\u001b[43m*\u001b[49m\u001b[43mkwargs\u001b[49m\u001b[43m)\u001b[49m\n\u001b[32m     79\u001b[39m \u001b[38;5;28;01mexcept\u001b[39;00m \u001b[38;5;167;01mOSError\u001b[39;00m \u001b[38;5;28;01mas\u001b[39;00m e:\n",
      "\u001b[36mFile \u001b[39m\u001b[32mc:\\Users\\a777h\\AppData\\Local\\Programs\\Python\\Python313\\Lib\\subprocess.py:554\u001b[39m, in \u001b[36mrun\u001b[39m\u001b[34m(input, capture_output, timeout, check, *popenargs, **kwargs)\u001b[39m\n\u001b[32m    552\u001b[39m     kwargs[\u001b[33m'\u001b[39m\u001b[33mstderr\u001b[39m\u001b[33m'\u001b[39m] = PIPE\n\u001b[32m--> \u001b[39m\u001b[32m554\u001b[39m \u001b[38;5;28;01mwith\u001b[39;00m \u001b[43mPopen\u001b[49m\u001b[43m(\u001b[49m\u001b[43m*\u001b[49m\u001b[43mpopenargs\u001b[49m\u001b[43m,\u001b[49m\u001b[43m \u001b[49m\u001b[43m*\u001b[49m\u001b[43m*\u001b[49m\u001b[43mkwargs\u001b[49m\u001b[43m)\u001b[49m \u001b[38;5;28;01mas\u001b[39;00m process:\n\u001b[32m    555\u001b[39m     \u001b[38;5;28;01mtry\u001b[39;00m:\n",
      "\u001b[36mFile \u001b[39m\u001b[32mc:\\Users\\a777h\\AppData\\Local\\Programs\\Python\\Python313\\Lib\\subprocess.py:1039\u001b[39m, in \u001b[36mPopen.__init__\u001b[39m\u001b[34m(self, args, bufsize, executable, stdin, stdout, stderr, preexec_fn, close_fds, shell, cwd, env, universal_newlines, startupinfo, creationflags, restore_signals, start_new_session, pass_fds, user, group, extra_groups, encoding, errors, text, umask, pipesize, process_group)\u001b[39m\n\u001b[32m   1036\u001b[39m             \u001b[38;5;28mself\u001b[39m.stderr = io.TextIOWrapper(\u001b[38;5;28mself\u001b[39m.stderr,\n\u001b[32m   1037\u001b[39m                     encoding=encoding, errors=errors)\n\u001b[32m-> \u001b[39m\u001b[32m1039\u001b[39m     \u001b[38;5;28;43mself\u001b[39;49m\u001b[43m.\u001b[49m\u001b[43m_execute_child\u001b[49m\u001b[43m(\u001b[49m\u001b[43margs\u001b[49m\u001b[43m,\u001b[49m\u001b[43m \u001b[49m\u001b[43mexecutable\u001b[49m\u001b[43m,\u001b[49m\u001b[43m \u001b[49m\u001b[43mpreexec_fn\u001b[49m\u001b[43m,\u001b[49m\u001b[43m \u001b[49m\u001b[43mclose_fds\u001b[49m\u001b[43m,\u001b[49m\n\u001b[32m   1040\u001b[39m \u001b[43m                        \u001b[49m\u001b[43mpass_fds\u001b[49m\u001b[43m,\u001b[49m\u001b[43m \u001b[49m\u001b[43mcwd\u001b[49m\u001b[43m,\u001b[49m\u001b[43m \u001b[49m\u001b[43menv\u001b[49m\u001b[43m,\u001b[49m\n\u001b[32m   1041\u001b[39m \u001b[43m                        \u001b[49m\u001b[43mstartupinfo\u001b[49m\u001b[43m,\u001b[49m\u001b[43m \u001b[49m\u001b[43mcreationflags\u001b[49m\u001b[43m,\u001b[49m\u001b[43m \u001b[49m\u001b[43mshell\u001b[49m\u001b[43m,\u001b[49m\n\u001b[32m   1042\u001b[39m \u001b[43m                        \u001b[49m\u001b[43mp2cread\u001b[49m\u001b[43m,\u001b[49m\u001b[43m \u001b[49m\u001b[43mp2cwrite\u001b[49m\u001b[43m,\u001b[49m\n\u001b[32m   1043\u001b[39m \u001b[43m                        \u001b[49m\u001b[43mc2pread\u001b[49m\u001b[43m,\u001b[49m\u001b[43m \u001b[49m\u001b[43mc2pwrite\u001b[49m\u001b[43m,\u001b[49m\n\u001b[32m   1044\u001b[39m \u001b[43m                        \u001b[49m\u001b[43merrread\u001b[49m\u001b[43m,\u001b[49m\u001b[43m \u001b[49m\u001b[43merrwrite\u001b[49m\u001b[43m,\u001b[49m\n\u001b[32m   1045\u001b[39m \u001b[43m                        \u001b[49m\u001b[43mrestore_signals\u001b[49m\u001b[43m,\u001b[49m\n\u001b[32m   1046\u001b[39m \u001b[43m                        \u001b[49m\u001b[43mgid\u001b[49m\u001b[43m,\u001b[49m\u001b[43m \u001b[49m\u001b[43mgids\u001b[49m\u001b[43m,\u001b[49m\u001b[43m \u001b[49m\u001b[43muid\u001b[49m\u001b[43m,\u001b[49m\u001b[43m \u001b[49m\u001b[43mumask\u001b[49m\u001b[43m,\u001b[49m\n\u001b[32m   1047\u001b[39m \u001b[43m                        \u001b[49m\u001b[43mstart_new_session\u001b[49m\u001b[43m,\u001b[49m\u001b[43m \u001b[49m\u001b[43mprocess_group\u001b[49m\u001b[43m)\u001b[49m\n\u001b[32m   1048\u001b[39m \u001b[38;5;28;01mexcept\u001b[39;00m:\n\u001b[32m   1049\u001b[39m     \u001b[38;5;66;03m# Cleanup if the child failed starting.\u001b[39;00m\n",
      "\u001b[36mFile \u001b[39m\u001b[32mc:\\Users\\a777h\\AppData\\Local\\Programs\\Python\\Python313\\Lib\\subprocess.py:1551\u001b[39m, in \u001b[36mPopen._execute_child\u001b[39m\u001b[34m(self, args, executable, preexec_fn, close_fds, pass_fds, cwd, env, startupinfo, creationflags, shell, p2cread, p2cwrite, c2pread, c2pwrite, errread, errwrite, unused_restore_signals, unused_gid, unused_gids, unused_uid, unused_umask, unused_start_new_session, unused_process_group)\u001b[39m\n\u001b[32m   1550\u001b[39m \u001b[38;5;28;01mtry\u001b[39;00m:\n\u001b[32m-> \u001b[39m\u001b[32m1551\u001b[39m     hp, ht, pid, tid = \u001b[43m_winapi\u001b[49m\u001b[43m.\u001b[49m\u001b[43mCreateProcess\u001b[49m\u001b[43m(\u001b[49m\u001b[43mexecutable\u001b[49m\u001b[43m,\u001b[49m\u001b[43m \u001b[49m\u001b[43margs\u001b[49m\u001b[43m,\u001b[49m\n\u001b[32m   1552\u001b[39m \u001b[43m                             \u001b[49m\u001b[38;5;66;43;03m# no special security\u001b[39;49;00m\n\u001b[32m   1553\u001b[39m \u001b[43m                             \u001b[49m\u001b[38;5;28;43;01mNone\u001b[39;49;00m\u001b[43m,\u001b[49m\u001b[43m \u001b[49m\u001b[38;5;28;43;01mNone\u001b[39;49;00m\u001b[43m,\u001b[49m\n\u001b[32m   1554\u001b[39m \u001b[43m                             \u001b[49m\u001b[38;5;28;43mint\u001b[39;49m\u001b[43m(\u001b[49m\u001b[38;5;129;43;01mnot\u001b[39;49;00m\u001b[43m \u001b[49m\u001b[43mclose_fds\u001b[49m\u001b[43m)\u001b[49m\u001b[43m,\u001b[49m\n\u001b[32m   1555\u001b[39m \u001b[43m                             \u001b[49m\u001b[43mcreationflags\u001b[49m\u001b[43m,\u001b[49m\n\u001b[32m   1556\u001b[39m \u001b[43m                             \u001b[49m\u001b[43menv\u001b[49m\u001b[43m,\u001b[49m\n\u001b[32m   1557\u001b[39m \u001b[43m                             \u001b[49m\u001b[43mcwd\u001b[49m\u001b[43m,\u001b[49m\n\u001b[32m   1558\u001b[39m \u001b[43m                             \u001b[49m\u001b[43mstartupinfo\u001b[49m\u001b[43m)\u001b[49m\n\u001b[32m   1559\u001b[39m \u001b[38;5;28;01mfinally\u001b[39;00m:\n\u001b[32m   1560\u001b[39m     \u001b[38;5;66;03m# Child is launched. Close the parent's copy of those pipe\u001b[39;00m\n\u001b[32m   1561\u001b[39m     \u001b[38;5;66;03m# handles that only the child should have open.  You need\u001b[39;00m\n\u001b[32m   (...)\u001b[39m\u001b[32m   1564\u001b[39m     \u001b[38;5;66;03m# pipe will not close when the child process exits and the\u001b[39;00m\n\u001b[32m   1565\u001b[39m     \u001b[38;5;66;03m# ReadFile will hang.\u001b[39;00m\n",
      "\u001b[31mFileNotFoundError\u001b[39m: [WinError 2] The system cannot find the file specified",
      "\nThe above exception was the direct cause of the following exception:\n",
      "\u001b[31mExecutableNotFound\u001b[39m                        Traceback (most recent call last)",
      "\u001b[36mCell\u001b[39m\u001b[36m \u001b[39m\u001b[32mIn[13]\u001b[39m\u001b[32m, line 13\u001b[39m\n\u001b[32m     10\u001b[39m dot_data = export_graphviz(clf, out_file=\u001b[38;5;28;01mNone\u001b[39;00m, feature_names=iris.feature_names,\n\u001b[32m     11\u001b[39m                            class_names=iris.target_names, filled=\u001b[38;5;28;01mTrue\u001b[39;00m, rounded=\u001b[38;5;28;01mTrue\u001b[39;00m, special_characters=\u001b[38;5;28;01mTrue\u001b[39;00m)\n\u001b[32m     12\u001b[39m graph = graphviz.Source(dot_data)\n\u001b[32m---> \u001b[39m\u001b[32m13\u001b[39m \u001b[43mgraph\u001b[49m\u001b[43m.\u001b[49m\u001b[43mrender\u001b[49m\u001b[43m(\u001b[49m\u001b[33;43m\"\u001b[39;49m\u001b[33;43miris_tree\u001b[39;49m\u001b[33;43m\"\u001b[39;49m\u001b[43m,\u001b[49m\u001b[43m \u001b[49m\u001b[38;5;28;43mformat\u001b[39;49m\u001b[43m=\u001b[49m\u001b[33;43m'\u001b[39;49m\u001b[33;43mpng\u001b[39;49m\u001b[33;43m'\u001b[39;49m\u001b[43m,\u001b[49m\u001b[43m \u001b[49m\u001b[43mcleanup\u001b[49m\u001b[43m=\u001b[49m\u001b[38;5;28;43;01mFalse\u001b[39;49;00m\u001b[43m)\u001b[49m  \u001b[38;5;66;03m# Saves as iris_tree.png\u001b[39;00m\n\u001b[32m     14\u001b[39m graph.view()\n",
      "\u001b[36mFile \u001b[39m\u001b[32mc:\\Users\\a777h\\AppData\\Local\\Programs\\Python\\Python313\\Lib\\site-packages\\graphviz\\_tools.py:185\u001b[39m, in \u001b[36mdeprecate_positional_args.<locals>.decorator.<locals>.wrapper\u001b[39m\u001b[34m(*args, **kwargs)\u001b[39m\n\u001b[32m    177\u001b[39m     wanted = \u001b[33m'\u001b[39m\u001b[33m, \u001b[39m\u001b[33m'\u001b[39m.join(\u001b[33mf\u001b[39m\u001b[33m'\u001b[39m\u001b[38;5;132;01m{\u001b[39;00mname\u001b[38;5;132;01m}\u001b[39;00m\u001b[33m=\u001b[39m\u001b[38;5;132;01m{\u001b[39;00mvalue\u001b[38;5;132;01m!r}\u001b[39;00m\u001b[33m'\u001b[39m\n\u001b[32m    178\u001b[39m                        \u001b[38;5;28;01mfor\u001b[39;00m name, value \u001b[38;5;129;01min\u001b[39;00m deprecated.items())\n\u001b[32m    179\u001b[39m     warnings.warn(\u001b[33mf\u001b[39m\u001b[33m'\u001b[39m\u001b[33mThe signature of \u001b[39m\u001b[38;5;132;01m{\u001b[39;00mfunc_name\u001b[38;5;132;01m}\u001b[39;00m\u001b[33m will be reduced\u001b[39m\u001b[33m'\u001b[39m\n\u001b[32m    180\u001b[39m                   \u001b[33mf\u001b[39m\u001b[33m'\u001b[39m\u001b[33m to \u001b[39m\u001b[38;5;132;01m{\u001b[39;00msupported_number\u001b[38;5;132;01m}\u001b[39;00m\u001b[33m positional arg\u001b[39m\u001b[38;5;132;01m{\u001b[39;00ms_\u001b[38;5;132;01m}\u001b[39;00m\u001b[38;5;132;01m{\u001b[39;00mqualification\u001b[38;5;132;01m}\u001b[39;00m\u001b[33m'\u001b[39m\n\u001b[32m    181\u001b[39m                   \u001b[33mf\u001b[39m\u001b[33m'\u001b[39m\u001b[33m \u001b[39m\u001b[38;5;132;01m{\u001b[39;00m\u001b[38;5;28mlist\u001b[39m(supported)\u001b[38;5;132;01m}\u001b[39;00m\u001b[33m: pass \u001b[39m\u001b[38;5;132;01m{\u001b[39;00mwanted\u001b[38;5;132;01m}\u001b[39;00m\u001b[33m as keyword arg\u001b[39m\u001b[38;5;132;01m{\u001b[39;00ms_\u001b[38;5;132;01m}\u001b[39;00m\u001b[33m'\u001b[39m,\n\u001b[32m    182\u001b[39m                   stacklevel=stacklevel,\n\u001b[32m    183\u001b[39m                   category=category)\n\u001b[32m--> \u001b[39m\u001b[32m185\u001b[39m \u001b[38;5;28;01mreturn\u001b[39;00m \u001b[43mfunc\u001b[49m\u001b[43m(\u001b[49m\u001b[43m*\u001b[49m\u001b[43margs\u001b[49m\u001b[43m,\u001b[49m\u001b[43m \u001b[49m\u001b[43m*\u001b[49m\u001b[43m*\u001b[49m\u001b[43mkwargs\u001b[49m\u001b[43m)\u001b[49m\n",
      "\u001b[36mFile \u001b[39m\u001b[32mc:\\Users\\a777h\\AppData\\Local\\Programs\\Python\\Python313\\Lib\\site-packages\\graphviz\\rendering.py:122\u001b[39m, in \u001b[36mRender.render\u001b[39m\u001b[34m(self, filename, directory, view, cleanup, format, renderer, formatter, neato_no_op, quiet, quiet_view, outfile, engine, raise_if_result_exists, overwrite_source)\u001b[39m\n\u001b[32m    118\u001b[39m filepath = \u001b[38;5;28mself\u001b[39m.save(filename, directory=directory, skip_existing=\u001b[38;5;28;01mNone\u001b[39;00m)\n\u001b[32m    120\u001b[39m args.append(filepath)\n\u001b[32m--> \u001b[39m\u001b[32m122\u001b[39m rendered = \u001b[38;5;28;43mself\u001b[39;49m\u001b[43m.\u001b[49m\u001b[43m_render\u001b[49m\u001b[43m(\u001b[49m\u001b[43m*\u001b[49m\u001b[43margs\u001b[49m\u001b[43m,\u001b[49m\u001b[43m \u001b[49m\u001b[43m*\u001b[49m\u001b[43m*\u001b[49m\u001b[43mkwargs\u001b[49m\u001b[43m)\u001b[49m\n\u001b[32m    124\u001b[39m \u001b[38;5;28;01mif\u001b[39;00m cleanup:\n\u001b[32m    125\u001b[39m     log.debug(\u001b[33m'\u001b[39m\u001b[33mdelete \u001b[39m\u001b[38;5;132;01m%r\u001b[39;00m\u001b[33m'\u001b[39m, filepath)\n",
      "\u001b[36mFile \u001b[39m\u001b[32mc:\\Users\\a777h\\AppData\\Local\\Programs\\Python\\Python313\\Lib\\site-packages\\graphviz\\_tools.py:185\u001b[39m, in \u001b[36mdeprecate_positional_args.<locals>.decorator.<locals>.wrapper\u001b[39m\u001b[34m(*args, **kwargs)\u001b[39m\n\u001b[32m    177\u001b[39m     wanted = \u001b[33m'\u001b[39m\u001b[33m, \u001b[39m\u001b[33m'\u001b[39m.join(\u001b[33mf\u001b[39m\u001b[33m'\u001b[39m\u001b[38;5;132;01m{\u001b[39;00mname\u001b[38;5;132;01m}\u001b[39;00m\u001b[33m=\u001b[39m\u001b[38;5;132;01m{\u001b[39;00mvalue\u001b[38;5;132;01m!r}\u001b[39;00m\u001b[33m'\u001b[39m\n\u001b[32m    178\u001b[39m                        \u001b[38;5;28;01mfor\u001b[39;00m name, value \u001b[38;5;129;01min\u001b[39;00m deprecated.items())\n\u001b[32m    179\u001b[39m     warnings.warn(\u001b[33mf\u001b[39m\u001b[33m'\u001b[39m\u001b[33mThe signature of \u001b[39m\u001b[38;5;132;01m{\u001b[39;00mfunc_name\u001b[38;5;132;01m}\u001b[39;00m\u001b[33m will be reduced\u001b[39m\u001b[33m'\u001b[39m\n\u001b[32m    180\u001b[39m                   \u001b[33mf\u001b[39m\u001b[33m'\u001b[39m\u001b[33m to \u001b[39m\u001b[38;5;132;01m{\u001b[39;00msupported_number\u001b[38;5;132;01m}\u001b[39;00m\u001b[33m positional arg\u001b[39m\u001b[38;5;132;01m{\u001b[39;00ms_\u001b[38;5;132;01m}\u001b[39;00m\u001b[38;5;132;01m{\u001b[39;00mqualification\u001b[38;5;132;01m}\u001b[39;00m\u001b[33m'\u001b[39m\n\u001b[32m    181\u001b[39m                   \u001b[33mf\u001b[39m\u001b[33m'\u001b[39m\u001b[33m \u001b[39m\u001b[38;5;132;01m{\u001b[39;00m\u001b[38;5;28mlist\u001b[39m(supported)\u001b[38;5;132;01m}\u001b[39;00m\u001b[33m: pass \u001b[39m\u001b[38;5;132;01m{\u001b[39;00mwanted\u001b[38;5;132;01m}\u001b[39;00m\u001b[33m as keyword arg\u001b[39m\u001b[38;5;132;01m{\u001b[39;00ms_\u001b[38;5;132;01m}\u001b[39;00m\u001b[33m'\u001b[39m,\n\u001b[32m    182\u001b[39m                   stacklevel=stacklevel,\n\u001b[32m    183\u001b[39m                   category=category)\n\u001b[32m--> \u001b[39m\u001b[32m185\u001b[39m \u001b[38;5;28;01mreturn\u001b[39;00m \u001b[43mfunc\u001b[49m\u001b[43m(\u001b[49m\u001b[43m*\u001b[49m\u001b[43margs\u001b[49m\u001b[43m,\u001b[49m\u001b[43m \u001b[49m\u001b[43m*\u001b[49m\u001b[43m*\u001b[49m\u001b[43mkwargs\u001b[49m\u001b[43m)\u001b[49m\n",
      "\u001b[36mFile \u001b[39m\u001b[32mc:\\Users\\a777h\\AppData\\Local\\Programs\\Python\\Python313\\Lib\\site-packages\\graphviz\\backend\\rendering.py:326\u001b[39m, in \u001b[36mrender\u001b[39m\u001b[34m(engine, format, filepath, renderer, formatter, neato_no_op, quiet, outfile, raise_if_result_exists, overwrite_filepath)\u001b[39m\n\u001b[32m    322\u001b[39m cmd += args\n\u001b[32m    324\u001b[39m \u001b[38;5;28;01massert\u001b[39;00m filepath \u001b[38;5;129;01mis\u001b[39;00m \u001b[38;5;129;01mnot\u001b[39;00m \u001b[38;5;28;01mNone\u001b[39;00m, \u001b[33m'\u001b[39m\u001b[33mwork around pytype false alarm\u001b[39m\u001b[33m'\u001b[39m\n\u001b[32m--> \u001b[39m\u001b[32m326\u001b[39m \u001b[43mexecute\u001b[49m\u001b[43m.\u001b[49m\u001b[43mrun_check\u001b[49m\u001b[43m(\u001b[49m\u001b[43mcmd\u001b[49m\u001b[43m,\u001b[49m\n\u001b[32m    327\u001b[39m \u001b[43m                  \u001b[49m\u001b[43mcwd\u001b[49m\u001b[43m=\u001b[49m\u001b[43mfilepath\u001b[49m\u001b[43m.\u001b[49m\u001b[43mparent\u001b[49m\u001b[43m \u001b[49m\u001b[38;5;28;43;01mif\u001b[39;49;00m\u001b[43m \u001b[49m\u001b[43mfilepath\u001b[49m\u001b[43m.\u001b[49m\u001b[43mparent\u001b[49m\u001b[43m.\u001b[49m\u001b[43mparts\u001b[49m\u001b[43m \u001b[49m\u001b[38;5;28;43;01melse\u001b[39;49;00m\u001b[43m \u001b[49m\u001b[38;5;28;43;01mNone\u001b[39;49;00m\u001b[43m,\u001b[49m\n\u001b[32m    328\u001b[39m \u001b[43m                  \u001b[49m\u001b[43mquiet\u001b[49m\u001b[43m=\u001b[49m\u001b[43mquiet\u001b[49m\u001b[43m,\u001b[49m\n\u001b[32m    329\u001b[39m \u001b[43m                  \u001b[49m\u001b[43mcapture_output\u001b[49m\u001b[43m=\u001b[49m\u001b[38;5;28;43;01mTrue\u001b[39;49;00m\u001b[43m)\u001b[49m\n\u001b[32m    331\u001b[39m \u001b[38;5;28;01mreturn\u001b[39;00m os.fspath(outfile)\n",
      "\u001b[36mFile \u001b[39m\u001b[32mc:\\Users\\a777h\\AppData\\Local\\Programs\\Python\\Python313\\Lib\\site-packages\\graphviz\\backend\\execute.py:81\u001b[39m, in \u001b[36mrun_check\u001b[39m\u001b[34m(cmd, input_lines, encoding, quiet, **kwargs)\u001b[39m\n\u001b[32m     79\u001b[39m \u001b[38;5;28;01mexcept\u001b[39;00m \u001b[38;5;167;01mOSError\u001b[39;00m \u001b[38;5;28;01mas\u001b[39;00m e:\n\u001b[32m     80\u001b[39m     \u001b[38;5;28;01mif\u001b[39;00m e.errno == errno.ENOENT:\n\u001b[32m---> \u001b[39m\u001b[32m81\u001b[39m         \u001b[38;5;28;01mraise\u001b[39;00m ExecutableNotFound(cmd) \u001b[38;5;28;01mfrom\u001b[39;00m\u001b[38;5;250m \u001b[39m\u001b[34;01me\u001b[39;00m\n\u001b[32m     82\u001b[39m     \u001b[38;5;28;01mraise\u001b[39;00m\n\u001b[32m     84\u001b[39m \u001b[38;5;28;01mif\u001b[39;00m \u001b[38;5;129;01mnot\u001b[39;00m quiet \u001b[38;5;129;01mand\u001b[39;00m proc.stderr:\n",
      "\u001b[31mExecutableNotFound\u001b[39m: failed to execute WindowsPath('dot'), make sure the Graphviz executables are on your systems' PATH"
     ]
    }
   ],
   "source": [
    "# 5. Train a Decision Tree Classifier and visualize the tree using graphviz\n",
    "\n",
    "from sklearn.tree import export_graphviz\n",
    "\n",
    "import graphviz\n",
    "\n",
    "clf = DecisionTreeClassifier()\n",
    "clf.fit(X_train, y_train)\n",
    "\n",
    "dot_data = export_graphviz(clf, out_file=None, feature_names=iris.feature_names,\n",
    "                           class_names=iris.target_names, filled=True, rounded=True, special_characters=True)\n",
    "graph = graphviz.Source(dot_data)\n",
    "graph.render(\"iris_tree\", format='png', cleanup=False)  # Saves as iris_tree.png\n",
    "graph.view()\n"
   ]
  },
  {
   "cell_type": "code",
   "execution_count": 14,
   "metadata": {
    "colab": {
     "base_uri": "https://localhost:8080/"
    },
    "executionInfo": {
     "elapsed": 27,
     "status": "ok",
     "timestamp": 1750770322723,
     "user": {
      "displayName": "Hemanth Surnidi",
      "userId": "03500326241075783574"
     },
     "user_tz": -330
    },
    "id": "lQnG6V6_B1xX",
    "outputId": "4906c1f5-b5c7-4536-83fd-b1bfc4c9e6c3"
   },
   "outputs": [
    {
     "name": "stdout",
     "output_type": "stream",
     "text": [
      "Accuracy with max_depth=3: 1.0\n",
      "Accuracy with fully grown tree: 1.0\n"
     ]
    }
   ],
   "source": [
    "# 6. Train a Decision Tree Classifier with max_depth=3 and compare accuracy with a fully grown tree\n",
    "\n",
    "# Tree with max depth 3\n",
    "clf_depth3 = DecisionTreeClassifier(max_depth=3)\n",
    "clf_depth3.fit(X_train, y_train)\n",
    "pred3 = clf_depth3.predict(X_test)\n",
    "print(\"Accuracy with max_depth=3:\", accuracy_score(y_test, pred3))\n",
    "\n",
    "# Fully grown tree\n",
    "clf_full = DecisionTreeClassifier()\n",
    "clf_full.fit(X_train, y_train)\n",
    "pred_full = clf_full.predict(X_test)\n",
    "print(\"Accuracy with fully grown tree:\", accuracy_score(y_test, pred_full))\n"
   ]
  },
  {
   "cell_type": "code",
   "execution_count": 15,
   "metadata": {
    "colab": {
     "base_uri": "https://localhost:8080/"
    },
    "executionInfo": {
     "elapsed": 25,
     "status": "ok",
     "timestamp": 1750770322758,
     "user": {
      "displayName": "Hemanth Surnidi",
      "userId": "03500326241075783574"
     },
     "user_tz": -330
    },
    "id": "U6fZn6xNB1ub",
    "outputId": "0ade5a84-9f30-4703-90f6-56ba428edbc8"
   },
   "outputs": [
    {
     "name": "stdout",
     "output_type": "stream",
     "text": [
      "Accuracy with min_samples_split=5: 1.0\n",
      "Accuracy with default tree: 1.0\n"
     ]
    }
   ],
   "source": [
    "# 7. Train a Decision Tree Classifier using min_samples_split=5 and compare with default\n",
    "\n",
    "# With min_samples_split=5\n",
    "clf_split5 = DecisionTreeClassifier(min_samples_split=5)\n",
    "clf_split5.fit(X_train, y_train)\n",
    "pred_split5 = clf_split5.predict(X_test)\n",
    "print(\"Accuracy with min_samples_split=5:\", accuracy_score(y_test, pred_split5))\n",
    "\n",
    "# Default tree\n",
    "clf_default = DecisionTreeClassifier()\n",
    "clf_default.fit(X_train, y_train)\n",
    "pred_default = clf_default.predict(X_test)\n",
    "print(\"Accuracy with default tree:\", accuracy_score(y_test, pred_default))\n"
   ]
  },
  {
   "cell_type": "code",
   "execution_count": 16,
   "metadata": {
    "colab": {
     "base_uri": "https://localhost:8080/"
    },
    "executionInfo": {
     "elapsed": 70,
     "status": "ok",
     "timestamp": 1750770322838,
     "user": {
      "displayName": "Hemanth Surnidi",
      "userId": "03500326241075783574"
     },
     "user_tz": -330
    },
    "id": "Gs1NEoVoB1r3",
    "outputId": "f825a718-db7f-4361-c366-92093119efb9"
   },
   "outputs": [
    {
     "name": "stdout",
     "output_type": "stream",
     "text": [
      "Accuracy with scaled features: 1.0\n",
      "Accuracy with unscaled features: 1.0\n"
     ]
    }
   ],
   "source": [
    "# 8. Apply feature scaling before training a Decision Tree Classifier and compare accuracy\n",
    "\n",
    "from sklearn.preprocessing import StandardScaler\n",
    "\n",
    "scaler = StandardScaler()\n",
    "X_scaled = scaler.fit_transform(iris.data)\n",
    "\n",
    "X_train_scaled, X_test_scaled, y_train, y_test = train_test_split(X_scaled, iris.target, test_size=0.3, random_state=42)\n",
    "\n",
    "# With scaling\n",
    "clf_scaled = DecisionTreeClassifier()\n",
    "clf_scaled.fit(X_train_scaled, y_train)\n",
    "pred_scaled = clf_scaled.predict(X_test_scaled)\n",
    "print(\"Accuracy with scaled features:\", accuracy_score(y_test, pred_scaled))\n",
    "\n",
    "# Without scaling\n",
    "clf_unscaled = DecisionTreeClassifier()\n",
    "clf_unscaled.fit(X_train, y_train)\n",
    "pred_unscaled = clf_unscaled.predict(X_test)\n",
    "print(\"Accuracy with unscaled features:\", accuracy_score(y_test, pred_unscaled))\n"
   ]
  },
  {
   "cell_type": "code",
   "execution_count": 17,
   "metadata": {
    "colab": {
     "base_uri": "https://localhost:8080/"
    },
    "executionInfo": {
     "elapsed": 25,
     "status": "ok",
     "timestamp": 1750770322876,
     "user": {
      "displayName": "Hemanth Surnidi",
      "userId": "03500326241075783574"
     },
     "user_tz": -330
    },
    "id": "Q4tzxV_uB1oy",
    "outputId": "e4b20b30-2b9d-419b-84e2-76bfc1da73f8"
   },
   "outputs": [
    {
     "name": "stdout",
     "output_type": "stream",
     "text": [
      "Accuracy with One-vs-Rest strategy: 1.0\n"
     ]
    }
   ],
   "source": [
    "# 9. Train a Decision Tree Classifier using One-vs-Rest (OvR) for multiclass\n",
    "\n",
    "from sklearn.multiclass import OneVsRestClassifier\n",
    "\n",
    "ovr_clf = OneVsRestClassifier(DecisionTreeClassifier())\n",
    "ovr_clf.fit(X_train, y_train)\n",
    "pred_ovr = ovr_clf.predict(X_test)\n",
    "print(\"Accuracy with One-vs-Rest strategy:\", accuracy_score(y_test, pred_ovr))\n"
   ]
  },
  {
   "cell_type": "code",
   "execution_count": 18,
   "metadata": {
    "colab": {
     "base_uri": "https://localhost:8080/"
    },
    "executionInfo": {
     "elapsed": 31,
     "status": "ok",
     "timestamp": 1750770322914,
     "user": {
      "displayName": "Hemanth Surnidi",
      "userId": "03500326241075783574"
     },
     "user_tz": -330
    },
    "id": "bTGaFtrZB1mO",
    "outputId": "2f48ce02-1652-4db1-a14c-b6d02ea12bfb"
   },
   "outputs": [
    {
     "name": "stdout",
     "output_type": "stream",
     "text": [
      "sepal length (cm): 0.0382\n",
      "sepal width (cm): 0.0000\n",
      "petal length (cm): 0.4045\n",
      "petal width (cm): 0.5573\n"
     ]
    }
   ],
   "source": [
    "# 10. Train a Decision Tree Classifier and display feature importance\n",
    "\n",
    "clf = DecisionTreeClassifier()\n",
    "clf.fit(X_train, y_train)\n",
    "\n",
    "for feature, score in zip(iris.feature_names, clf.feature_importances_):\n",
    "    print(f\"{feature}: {score:.4f}\")\n"
   ]
  },
  {
   "cell_type": "code",
   "execution_count": 19,
   "metadata": {
    "colab": {
     "base_uri": "https://localhost:8080/"
    },
    "executionInfo": {
     "elapsed": 614,
     "status": "ok",
     "timestamp": 1750770323535,
     "user": {
      "displayName": "Hemanth Surnidi",
      "userId": "03500326241075783574"
     },
     "user_tz": -330
    },
    "id": "k-LyGBkoB1jJ",
    "outputId": "6b005820-466a-4e9c-b71b-285f58428527"
   },
   "outputs": [
    {
     "name": "stdout",
     "output_type": "stream",
     "text": [
      "MSE with max_depth=5: 0.5210801561811792\n",
      "MSE with unrestricted tree: 0.5229720036411982\n"
     ]
    }
   ],
   "source": [
    "# 11. Train a Decision Tree Regressor with max_depth=5 and compare with unrestricted\n",
    "\n",
    "# With max_depth=5\n",
    "reg_depth5 = DecisionTreeRegressor(max_depth=5)\n",
    "reg_depth5.fit(Xh_train, yh_train)\n",
    "pred_depth5 = reg_depth5.predict(Xh_test)\n",
    "print(\"MSE with max_depth=5:\", mean_squared_error(yh_test, pred_depth5))\n",
    "\n",
    "# Unrestricted\n",
    "reg_full = DecisionTreeRegressor()\n",
    "reg_full.fit(Xh_train, yh_train)\n",
    "pred_full = reg_full.predict(Xh_test)\n",
    "print(\"MSE with unrestricted tree:\", mean_squared_error(yh_test, pred_full))\n"
   ]
  },
  {
   "cell_type": "code",
   "execution_count": 20,
   "metadata": {
    "colab": {
     "base_uri": "https://localhost:8080/",
     "height": 472
    },
    "executionInfo": {
     "elapsed": 657,
     "status": "ok",
     "timestamp": 1750770324185,
     "user": {
      "displayName": "Hemanth Surnidi",
      "userId": "03500326241075783574"
     },
     "user_tz": -330
    },
    "id": "V57l2RPzB1gd",
    "outputId": "e8be7e48-3781-4f1c-8553-ddde8befca6d"
   },
   "outputs": [
    {
     "data": {
      "image/png": "[encoded data removed]",
      "text/plain": [
       "<Figure size 640x480 with 1 Axes>"
      ]
     },
     "metadata": {},
     "output_type": "display_data"
    }
   ],
   "source": [
    "# 12. Apply Cost Complexity Pruning (CCP) and visualize its effect on accuracy\n",
    "\n",
    "path = clf.cost_complexity_pruning_path(X_train, y_train)\n",
    "ccp_alphas = path.ccp_alphas[:-1]\n",
    "\n",
    "from matplotlib import pyplot as plt\n",
    "\n",
    "train_scores = []\n",
    "test_scores = []\n",
    "\n",
    "for ccp_alpha in ccp_alphas:\n",
    "    clf_ccp = DecisionTreeClassifier(ccp_alpha=ccp_alpha)\n",
    "    clf_ccp.fit(X_train, y_train)\n",
    "    train_scores.append(clf_ccp.score(X_train, y_train))\n",
    "    test_scores.append(clf_ccp.score(X_test, y_test))\n",
    "\n",
    "plt.plot(ccp_alphas, train_scores, marker='o', label='Train')\n",
    "plt.plot(ccp_alphas, test_scores, marker='x', label='Test')\n",
    "plt.xlabel(\"ccp_alpha\")\n",
    "plt.ylabel(\"Accuracy\")\n",
    "plt.legend()\n",
    "plt.title(\"Effect of CCP on Accuracy\")\n",
    "plt.show()\n"
   ]
  },
  {
   "cell_type": "code",
   "execution_count": 21,
   "metadata": {
    "colab": {
     "base_uri": "https://localhost:8080/"
    },
    "executionInfo": {
     "elapsed": 51,
     "status": "ok",
     "timestamp": 1750770324377,
     "user": {
      "displayName": "Hemanth Surnidi",
      "userId": "03500326241075783574"
     },
     "user_tz": -330
    },
    "id": "Q5HXEDFcB1dz",
    "outputId": "0667b4a0-1c4c-4679-f223-1145e09abd15"
   },
   "outputs": [
    {
     "name": "stdout",
     "output_type": "stream",
     "text": [
      "Precision: 1.0\n",
      "Recall: 1.0\n",
      "F1-Score: 1.0\n"
     ]
    }
   ],
   "source": [
    "# 13. Evaluate using Precision, Recall, and F1-Score\n",
    "\n",
    "from sklearn.metrics import precision_score, recall_score, f1_score\n",
    "\n",
    "clf = DecisionTreeClassifier()\n",
    "clf.fit(X_train, y_train)\n",
    "y_pred = clf.predict(X_test)\n",
    "\n",
    "print(\"Precision:\", precision_score(y_test, y_pred, average='macro'))\n",
    "print(\"Recall:\", recall_score(y_test, y_pred, average='macro'))\n",
    "print(\"F1-Score:\", f1_score(y_test, y_pred, average='macro'))\n"
   ]
  },
  {
   "cell_type": "code",
   "execution_count": 22,
   "metadata": {
    "colab": {
     "base_uri": "https://localhost:8080/",
     "height": 472
    },
    "executionInfo": {
     "elapsed": 1348,
     "status": "ok",
     "timestamp": 1750770325742,
     "user": {
      "displayName": "Hemanth Surnidi",
      "userId": "03500326241075783574"
     },
     "user_tz": -330
    },
    "id": "NoWhqselB1bM",
    "outputId": "9894c053-b238-42e9-bfd8-7eaa8e66bc48"
   },
   "outputs": [
    {
     "data": {
      "image/png": "[encoded data removed]",
      "text/plain": [
       "<Figure size 640x480 with 2 Axes>"
      ]
     },
     "metadata": {},
     "output_type": "display_data"
    }
   ],
   "source": [
    "# 14. Visualize confusion matrix using seaborn\n",
    "\n",
    "from sklearn.metrics import confusion_matrix\n",
    "import seaborn as sns\n",
    "import matplotlib.pyplot as plt\n",
    "\n",
    "cm = confusion_matrix(y_test, y_pred)\n",
    "\n",
    "sns.heatmap(cm, annot=True, fmt='d', cmap='Blues',\n",
    "            xticklabels=iris.target_names, yticklabels=iris.target_names)\n",
    "plt.xlabel(\"Predicted\")\n",
    "plt.ylabel(\"Actual\")\n",
    "plt.title(\"Confusion Matrix\")\n",
    "plt.show()\n"
   ]
  },
  {
   "cell_type": "code",
   "execution_count": 23,
   "metadata": {
    "colab": {
     "base_uri": "https://localhost:8080/"
    },
    "executionInfo": {
     "elapsed": 160,
     "status": "ok",
     "timestamp": 1750770325911,
     "user": {
      "displayName": "Hemanth Surnidi",
      "userId": "03500326241075783574"
     },
     "user_tz": -330
    },
    "id": "WMa96dvBB1Yb",
    "outputId": "50eb9efc-57ca-4040-dabb-75c36c5dee05"
   },
   "outputs": [
    {
     "name": "stdout",
     "output_type": "stream",
     "text": [
      "Best parameters: {'max_depth': 2, 'min_samples_split': 2}\n",
      "Best accuracy: 0.9238095238095237\n"
     ]
    }
   ],
   "source": [
    "# 15. Use GridSearchCV to tune max_depth and min_samples_split\n",
    "\n",
    "from sklearn.model_selection import GridSearchCV\n",
    "\n",
    "param_grid = {\n",
    "    'max_depth': [2, 3, 4, 5],\n",
    "    'min_samples_split': [2, 5, 10]\n",
    "}\n",
    "\n",
    "grid_search = GridSearchCV(DecisionTreeClassifier(), param_grid, cv=3)\n",
    "grid_search.fit(X_train, y_train)\n",
    "\n",
    "print(\"Best parameters:\", grid_search.best_params_)\n",
    "print(\"Best accuracy:\", grid_search.best_score_)\n"
   ]
  }
 ],
 "metadata": {
  "colab": {
   "authorship_tag": "ABX9TyP+AyVY+QapcRKChnOTaUix",
   "provenance": []
  },
  "kernelspec": {
   "display_name": "Python 3",
   "name": "python3"
  },
  "language_info": {
   "codemirror_mode": {
    "name": "ipython",
    "version": 3
   },
   "file_extension": ".py",
   "mimetype": "text/x-python",
   "name": "python",
   "nbconvert_exporter": "python",
   "pygments_lexer": "ipython3",
   "version": "3.13.3"
  }
 },
 "nbformat": 4,
 "nbformat_minor": 0
}
